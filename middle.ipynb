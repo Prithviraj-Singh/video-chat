{
 "cells": [
  {
   "cell_type": "code",
   "execution_count": 1,
   "metadata": {},
   "outputs": [],
   "source": [
    "import numpy\n",
    "import socket\n",
    "import cv2\n",
    "import time\n",
    "import threading"
   ]
  },
  {
   "cell_type": "code",
   "execution_count": 2,
   "metadata": {},
   "outputs": [],
   "source": [
    "myip = socket.gethostbyname(socket.gethostname())\n",
    "threadsnd = list(range(100))\n",
    "vidsock = list(range(100))\n",
    "soundsock = list(range(100))\n",
    "threadrec = list(range(100))\n",
    "threadcreate = list(range(100))\n",
    "rec = list(range(100))\n",
    "encoded = numpy.zeros((200,200,3))\n",
    "shut = list(range(100))\n",
    "count = 0\n",
    "conn = list(range(100))\n",
    "decimg = list(range(100))\n",
    "final = cv2.imread(\"background_for_4.png\")"
   ]
  },
  {
   "cell_type": "code",
   "execution_count": 1,
   "metadata": {},
   "outputs": [
    {
     "ename": "IndentationError",
     "evalue": "expected an indented block (<ipython-input-1-ae419c8edbd2>, line 45)",
     "output_type": "error",
     "traceback": [
      "\u001b[1;36m  File \u001b[1;32m\"<ipython-input-1-ae419c8edbd2>\"\u001b[1;36m, line \u001b[1;32m45\u001b[0m\n\u001b[1;33m    def startsocket(count,conn):\u001b[0m\n\u001b[1;37m                                ^\u001b[0m\n\u001b[1;31mIndentationError\u001b[0m\u001b[1;31m:\u001b[0m expected an indented block\n"
     ]
    }
   ],
   "source": [
    "def receive(conn,i):\n",
    "    global stop\n",
    "    global shut\n",
    "    global rec\n",
    "    global decimg\n",
    "    try:\n",
    "        print(\"HI\")\n",
    "        while True:\n",
    "            rec[i] = conn.recv(190456)\n",
    "            arr = numpy.fromstring(rec[i],numpy.uint8)\n",
    "            decimg[i] = cv2.imdecode(arr, cv2.IMREAD_COLOR)\n",
    "    except socket.timeout:\n",
    "        stop = True\n",
    "        conn.close()\n",
    "    except ConnectionResetError:\n",
    "        print(\"encountered Connection reset error\")\n",
    "        shut[i] = True\n",
    "        conn.close()\n",
    "    except cv2.error:\n",
    "        receive(conn,i)\n",
    "        \n",
    "def create_img(i):\n",
    "    global decimg\n",
    "    global final\n",
    "    try:\n",
    "        print(\"HI\")\n",
    "        while(True):\n",
    "            if i == 0:\n",
    "                final[:300,:300] = decimg[i]\n",
    "            if i == 1:\n",
    "                final[:300,300:600] = decimg[i]\n",
    "            if i == 2:\n",
    "                final[300:600,:300] = decimg[i]\n",
    "            if i == 3:\n",
    "                final[300:600,300:600] = decimg[i]\n",
    "    except cv2.error:\n",
    "        create_img(i)\n",
    "\"\"\"        \n",
    "def send(i):\n",
    "    global final\n",
    "    try:\n",
    "        while(True):\n",
    "            conn.send()\n",
    "\"\"\"\"\n",
    "        \n",
    "def startsocket(count,conn):\n",
    "    vidsock[count] = socket.socket(family=socket.AF_INET,type=socket.SOCK_STREAM)\n",
    "    vidsock[count].bind((myip,0))\n",
    "    vidsock[count].listen(1)\n",
    "    \n",
    "    soundsock[count] = socket.socket(family=socket.AF_INET,type=socket.SOCK_STREAM)\n",
    "    soundsock[count].bind((myip,0))\n",
    "    soundsock[count].listen(1)\n",
    "    conn.send(str(vidsock[count].getsockname()[1]).encode())\n",
    "    print(\"er\")\n",
    "    vidconn, address = vidsock[count].accept()\n",
    "    print(\"er\")\n",
    "    conn.send(str(soundsock[count].getsockname()[1]).encode())\n",
    "    print(\"er\")\n",
    "    soundconn,address = soundsock[count].accept()\n",
    "    print(\"er\")\n",
    "    threadrec[count] = threading.Thread(target=receive, args = (vidconn,count,))\n",
    "    threadrec[count].start()\n",
    "    threadcreate[count] = threading.Thread(target=create_img, args = (count,))\n",
    "    threadcreate[count].start()\n",
    "#    threadsnd[count] = threading.Thread(target=send, args = (count,))\n",
    "#    threadsnd[count].start()\n",
    "    \n",
    "def forall(count):\n",
    "    sockall = socket.socket(family=socket.AF_INET,type=socket.SOCK_STREAM)\n",
    "    sockall.bind((myip,8888))\n",
    "    sockall.listen(100)\n",
    "    while(True):\n",
    "        conn[count],address = sockall.accept()\n",
    "        startsocket(count,conn[count])\n",
    "        count = count + 1"
   ]
  },
  {
   "cell_type": "code",
   "execution_count": 4,
   "metadata": {},
   "outputs": [
    {
     "name": "stdout",
     "output_type": "stream",
     "text": [
      "er\n",
      "er\n",
      "er\n",
      "er\n",
      "HI\n",
      "HI\n"
     ]
    },
    {
     "name": "stderr",
     "output_type": "stream",
     "text": [
      "<ipython-input-3-9eef32133104>:10: DeprecationWarning: The binary mode of fromstring is deprecated, as it behaves surprisingly on unicode inputs. Use frombuffer instead\n",
      "  arr = numpy.fromstring(rec[i],numpy.uint8)\n"
     ]
    },
    {
     "name": "stdout",
     "output_type": "stream",
     "text": [
      "er\n",
      "er\n",
      "er\n",
      "er\n",
      "HI\n",
      "HI\n"
     ]
    }
   ],
   "source": [
    "threadall = threading.Thread(target=forall, args = (0,))\n",
    "threadall.start()"
   ]
  },
  {
   "cell_type": "code",
   "execution_count": 5,
   "metadata": {},
   "outputs": [
    {
     "name": "stderr",
     "output_type": "stream",
     "text": [
      "<ipython-input-3-9eef32133104>:10: DeprecationWarning: The binary mode of fromstring is deprecated, as it behaves surprisingly on unicode inputs. Use frombuffer instead\n",
      "  arr = numpy.fromstring(rec[i],numpy.uint8)\n"
     ]
    }
   ],
   "source": [
    "while(True):\n",
    "    cv2.imshow(\"hi\",final)\n",
    "    if cv2.waitKey(10) == 27:\n",
    "        cv2.destroyAllWindows()\n",
    "        break"
   ]
  },
  {
   "cell_type": "code",
   "execution_count": 30,
   "metadata": {},
   "outputs": [
    {
     "data": {
      "text/plain": [
       "array([[[0, 0, 0],\n",
       "        [0, 0, 0],\n",
       "        [0, 0, 0],\n",
       "        ...,\n",
       "        [1, 1, 1],\n",
       "        [1, 1, 1],\n",
       "        [1, 1, 1]],\n",
       "\n",
       "       [[0, 0, 0],\n",
       "        [0, 0, 0],\n",
       "        [0, 0, 0],\n",
       "        ...,\n",
       "        [1, 1, 1],\n",
       "        [1, 1, 1],\n",
       "        [1, 1, 1]],\n",
       "\n",
       "       [[0, 0, 0],\n",
       "        [0, 0, 0],\n",
       "        [0, 0, 0],\n",
       "        ...,\n",
       "        [1, 1, 1],\n",
       "        [1, 1, 1],\n",
       "        [1, 1, 1]],\n",
       "\n",
       "       ...,\n",
       "\n",
       "       [[0, 0, 0],\n",
       "        [0, 0, 0],\n",
       "        [0, 0, 0],\n",
       "        ...,\n",
       "        [0, 0, 0],\n",
       "        [0, 0, 0],\n",
       "        [0, 0, 0]],\n",
       "\n",
       "       [[0, 0, 0],\n",
       "        [0, 0, 0],\n",
       "        [0, 0, 0],\n",
       "        ...,\n",
       "        [0, 0, 0],\n",
       "        [0, 0, 0],\n",
       "        [0, 0, 0]],\n",
       "\n",
       "       [[0, 0, 0],\n",
       "        [0, 0, 0],\n",
       "        [0, 0, 0],\n",
       "        ...,\n",
       "        [0, 0, 0],\n",
       "        [0, 0, 0],\n",
       "        [0, 0, 0]]], dtype=uint8)"
      ]
     },
     "execution_count": 30,
     "metadata": {},
     "output_type": "execute_result"
    }
   ],
   "source": [
    "final"
   ]
  },
  {
   "cell_type": "code",
   "execution_count": null,
   "metadata": {},
   "outputs": [],
   "source": []
  }
 ],
 "metadata": {
  "kernelspec": {
   "display_name": "Python 3",
   "language": "python",
   "name": "python3"
  },
  "language_info": {
   "codemirror_mode": {
    "name": "ipython",
    "version": 3
   },
   "file_extension": ".py",
   "mimetype": "text/x-python",
   "name": "python",
   "nbconvert_exporter": "python",
   "pygments_lexer": "ipython3",
   "version": "3.8.3"
  }
 },
 "nbformat": 4,
 "nbformat_minor": 4
}
