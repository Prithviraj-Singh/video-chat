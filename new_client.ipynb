{
 "cells": [
  {
   "cell_type": "code",
   "execution_count": 1,
   "metadata": {},
   "outputs": [],
   "source": [
    "import numpy\n",
    "import socket\n",
    "import cv2\n",
    "import time\n",
    "import threading"
   ]
  },
  {
   "cell_type": "code",
   "execution_count": 2,
   "metadata": {},
   "outputs": [],
   "source": [
    "serverip = socket.gethostbyname(socket.gethostname()) #takes string\n",
    "stop = False"
   ]
  },
  {
   "cell_type": "code",
   "execution_count": 3,
   "metadata": {},
   "outputs": [],
   "source": [
    "sock = socket.socket(socket.AF_INET, socket.SOCK_STREAM)\n",
    "vidsock = socket.socket(socket.AF_INET, socket.SOCK_STREAM)\n",
    "soundsock = socket.socket(socket.AF_INET, socket.SOCK_STREAM)"
   ]
  },
  {
   "cell_type": "code",
   "execution_count": 4,
   "metadata": {},
   "outputs": [
    {
     "name": "stdout",
     "output_type": "stream",
     "text": [
      "61799 61798\n"
     ]
    }
   ],
   "source": [
    "sock.connect((serverip,8888))\n",
    "\n",
    "vidport = int(sock.recv(50).decode())\n",
    "vidsock.connect((serverip,vidport))\n",
    "\n",
    "soundport = int(sock.recv(50).decode())\n",
    "soundsock.connect((serverip,soundport))\n",
    "print(soundport,vidport)"
   ]
  },
  {
   "cell_type": "code",
   "execution_count": 5,
   "metadata": {},
   "outputs": [],
   "source": [
    "stop = False\n",
    "def send(cam,vidsock):\n",
    "    cap = cv2.VideoCapture(cam)\n",
    "    while True:\n",
    "        try:\n",
    "            ret,frame = cap.read()\n",
    "            frame = cv2.resize(frame,(300,300))\n",
    "            encoded = cv2.imencode(\".jpg\",frame)[1].tobytes()\n",
    "            vidsock.send(encoded)\n",
    "            if stop:\n",
    "                cap.release()\n",
    "                print(\"peer closed the connection\")\n",
    "                sock.close()\n",
    "                break\n",
    "        except cv2.error:\n",
    "            send(cam,vidsock)\n",
    "        except ConnectionResetError:\n",
    "            cap.release()"
   ]
  },
  {
   "cell_type": "code",
   "execution_count": null,
   "metadata": {},
   "outputs": [],
   "source": [
    "send(1,vidsock)"
   ]
  },
  {
   "cell_type": "code",
   "execution_count": null,
   "metadata": {},
   "outputs": [],
   "source": []
  }
 ],
 "metadata": {
  "kernelspec": {
   "display_name": "Python 3",
   "language": "python",
   "name": "python3"
  },
  "language_info": {
   "codemirror_mode": {
    "name": "ipython",
    "version": 3
   },
   "file_extension": ".py",
   "mimetype": "text/x-python",
   "name": "python",
   "nbconvert_exporter": "python",
   "pygments_lexer": "ipython3",
   "version": "3.8.3"
  }
 },
 "nbformat": 4,
 "nbformat_minor": 4
}
