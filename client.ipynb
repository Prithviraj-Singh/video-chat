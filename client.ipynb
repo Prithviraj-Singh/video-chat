{
 "cells": [
  {
   "cell_type": "code",
   "execution_count": 1,
   "metadata": {},
   "outputs": [],
   "source": [
    "import numpy\n",
    "import socket\n",
    "import cv2\n",
    "import threading"
   ]
  },
  {
   "cell_type": "code",
   "execution_count": 2,
   "metadata": {},
   "outputs": [],
   "source": [
    "ip = \"127.0.0.1\"\n",
    "myport = 123\n",
    "peerport = 126"
   ]
  },
  {
   "cell_type": "code",
   "execution_count": 3,
   "metadata": {},
   "outputs": [],
   "source": [
    "stop = False\n",
    "def send(cam=0):\n",
    "    cap = cv2.VideoCapture(cam)    \n",
    "    while True:\n",
    "        ret,frame = cap.read() \n",
    "        frame = cv2.resize(frame,(400,400))\n",
    "        encoded = cv2.imencode(\".jpg\",frame)[1].tobytes()\n",
    "        sock.sendto(encoded,(ip,peerport))\n",
    "        if stop:\n",
    "            cap.release()\n",
    "            sock.close()\n",
    "            print(\"peer closed the connection\")\n",
    "            break\n",
    "\n",
    "def rec():\n",
    "  try:\n",
    "    global stop\n",
    "    while True:\n",
    "        rec = sock.recv(100000)\n",
    "        arr = numpy.fromstring(rec,numpy.uint8)\n",
    "        decimg = cv2.imdecode(arr, cv2.IMREAD_COLOR)\n",
    "        cv2.imshow(\"me\",decimg)\n",
    "        if  cv2.waitKey(10) == 27: #press esc to close the program\n",
    "            break\n",
    "    cv2.destroyAllWindows()\n",
    "    stop = True\n",
    "  except ConnectionResetError:\n",
    "    cv2.destroyAllWindows()\n",
    "    stop = True"
   ]
  },
  {
   "cell_type": "code",
   "execution_count": 6,
   "metadata": {},
   "outputs": [],
   "source": [
    "sock = socket.socket(family=socket.AF_INET,type=socket.SOCK_DGRAM)\n",
    "sock.bind((ip,myport))"
   ]
  },
  {
   "cell_type": "code",
   "execution_count": null,
   "metadata": {},
   "outputs": [
    {
     "name": "stderr",
     "output_type": "stream",
     "text": [
      "<ipython-input-3-2339e44af548>:20: DeprecationWarning: The binary mode of fromstring is deprecated, as it behaves surprisingly on unicode inputs. Use frombuffer instead\n",
      "  arr = numpy.fromstring(rec,numpy.uint8)\n"
     ]
    }
   ],
   "source": [
    "send_thread = threading.Thread(target=send, args=(1,))\n",
    "send_thread.start()\n",
    "rec()"
   ]
  },
  {
   "cell_type": "code",
   "execution_count": null,
   "metadata": {},
   "outputs": [],
   "source": []
  },
  {
   "cell_type": "code",
   "execution_count": null,
   "metadata": {},
   "outputs": [],
   "source": []
  }
 ],
 "metadata": {
  "kernelspec": {
   "display_name": "Python 3",
   "language": "python",
   "name": "python3"
  },
  "language_info": {
   "codemirror_mode": {
    "name": "ipython",
    "version": 3
   },
   "file_extension": ".py",
   "mimetype": "text/x-python",
   "name": "python",
   "nbconvert_exporter": "python",
   "pygments_lexer": "ipython3",
   "version": "3.8.3"
  }
 },
 "nbformat": 4,
 "nbformat_minor": 4
}
